{
 "cells": [
  {
   "cell_type": "markdown",
   "metadata": {},
   "source": [
    "# Part 1"
   ]
  },
  {
   "cell_type": "code",
   "execution_count": 120,
   "metadata": {},
   "outputs": [],
   "source": [
    "import os\n",
    "import sqlite3\n",
    "import pandas as pd"
   ]
  },
  {
   "cell_type": "code",
   "execution_count": 121,
   "metadata": {},
   "outputs": [],
   "source": [
    "conn = sqlite3.connect(r'C:\\Users\\anika\\Desktop\\AnikaDS\\Unit_3_Lambda\\DS-Unit-3-Sprint-2-SQL-and-Databases\\module1-introduction-to-sql\\rpg_db.sqlite3')"
   ]
  },
  {
   "cell_type": "code",
   "execution_count": 122,
   "metadata": {},
   "outputs": [],
   "source": [
    "cursor = conn.cursor()"
   ]
  },
  {
   "cell_type": "code",
   "execution_count": 131,
   "metadata": {},
   "outputs": [],
   "source": [
    "q1 = 'SELECT COUNT(*) FROM charactercreator_character'\n",
    "q2a = 'SELECT COUNT(*) FROM charactercreator_cleric'\n",
    "q2b = 'SELECT COUNT(*) FROM charactercreator_fighter'\n",
    "q2c = 'SELECT COUNT(*) FROM charactercreator_mage'\n",
    "q2d = 'SELECT COUNT(*) FROM charactercreator_necromancer'\n",
    "q2e = 'SELECT COUNT(*) FROM charactercreator_thief'\n",
    "q3a = 'SELECT COUNT(*) FROM charactercreator_character_inventory'\n",
    "q3b = 'SELECT COUNT(*) FROM charactercreator_character_inventory, armory_weapon WHERE charactercreator_character_inventory.item_id = armory_weapon.item_ptr_id'\n",
    "# q3c = did math\n",
    "q4 = 'SELECT COUNT(*) FROM charactercreator_character_inventory GROUP BY character_id LIMIT 20'\n",
    "q5 = 'SELECT COUNT(*) FROM charactercreator_character_inventory, armory_weapon WHERE charactercreator_character_inventory.item_id = armory_weapon.item_ptr_id GROUP BY charactercreator_character_inventory.character_id LIMIT 20'\n",
    "# q6 = did math\n",
    "# q7 = did math\n"
   ]
  },
  {
   "cell_type": "code",
   "execution_count": 132,
   "metadata": {},
   "outputs": [
    {
     "data": {
      "text/plain": [
       "[(302,)]"
      ]
     },
     "execution_count": 132,
     "metadata": {},
     "output_type": "execute_result"
    }
   ],
   "source": [
    "#How many total Characters?\n",
    "cursor.execute(q1).fetchall()"
   ]
  },
  {
   "cell_type": "code",
   "execution_count": 133,
   "metadata": {},
   "outputs": [
    {
     "data": {
      "text/plain": [
       "[(75,)]"
      ]
     },
     "execution_count": 133,
     "metadata": {},
     "output_type": "execute_result"
    }
   ],
   "source": [
    "#How many of each subclass? - Cleric\n",
    "cursor.execute(q2a).fetchall()"
   ]
  },
  {
   "cell_type": "code",
   "execution_count": 134,
   "metadata": {},
   "outputs": [
    {
     "data": {
      "text/plain": [
       "[(68,)]"
      ]
     },
     "execution_count": 134,
     "metadata": {},
     "output_type": "execute_result"
    }
   ],
   "source": [
    "#How many of each subclass? - Fighter\n",
    "cursor.execute(q2b).fetchall()"
   ]
  },
  {
   "cell_type": "code",
   "execution_count": 135,
   "metadata": {},
   "outputs": [
    {
     "data": {
      "text/plain": [
       "[(108,)]"
      ]
     },
     "execution_count": 135,
     "metadata": {},
     "output_type": "execute_result"
    }
   ],
   "source": [
    "#How many of each subclass? - Mage\n",
    "cursor.execute(q2c).fetchall()"
   ]
  },
  {
   "cell_type": "code",
   "execution_count": 136,
   "metadata": {},
   "outputs": [
    {
     "data": {
      "text/plain": [
       "[(11,)]"
      ]
     },
     "execution_count": 136,
     "metadata": {},
     "output_type": "execute_result"
    }
   ],
   "source": [
    "#How many of each subclass? - Necromancer\n",
    "cursor.execute(q2d).fetchall()"
   ]
  },
  {
   "cell_type": "code",
   "execution_count": 137,
   "metadata": {},
   "outputs": [
    {
     "data": {
      "text/plain": [
       "[(51,)]"
      ]
     },
     "execution_count": 137,
     "metadata": {},
     "output_type": "execute_result"
    }
   ],
   "source": [
    "#How many of each subclass? - Thief\n",
    "cursor.execute(q2e).fetchall()"
   ]
  },
  {
   "cell_type": "code",
   "execution_count": 138,
   "metadata": {},
   "outputs": [
    {
     "data": {
      "text/plain": [
       "[(898,)]"
      ]
     },
     "execution_count": 138,
     "metadata": {},
     "output_type": "execute_result"
    }
   ],
   "source": [
    "#How many total items?\n",
    "cursor.execute(q3a).fetchall()"
   ]
  },
  {
   "cell_type": "code",
   "execution_count": 139,
   "metadata": {},
   "outputs": [
    {
     "data": {
      "text/plain": [
       "[(203,)]"
      ]
     },
     "execution_count": 139,
     "metadata": {},
     "output_type": "execute_result"
    }
   ],
   "source": [
    "#How many items are weapons?\n",
    "cursor.execute(q3b).fetchall()"
   ]
  },
  {
   "cell_type": "code",
   "execution_count": 140,
   "metadata": {},
   "outputs": [
    {
     "data": {
      "text/plain": [
       "695"
      ]
     },
     "execution_count": 140,
     "metadata": {},
     "output_type": "execute_result"
    }
   ],
   "source": [
    "#How many items are not weapons?\n",
    "898-203"
   ]
  },
  {
   "cell_type": "code",
   "execution_count": 105,
   "metadata": {},
   "outputs": [
    {
     "data": {
      "text/plain": [
       "[(3,),\n",
       " (3,),\n",
       " (2,),\n",
       " (4,),\n",
       " (4,),\n",
       " (1,),\n",
       " (5,),\n",
       " (3,),\n",
       " (4,),\n",
       " (4,),\n",
       " (3,),\n",
       " (3,),\n",
       " (4,),\n",
       " (4,),\n",
       " (4,),\n",
       " (1,),\n",
       " (5,),\n",
       " (5,),\n",
       " (3,),\n",
       " (1,)]"
      ]
     },
     "execution_count": 105,
     "metadata": {},
     "output_type": "execute_result"
    }
   ],
   "source": [
    "#How many items does each character have (first 20 rows)?\n",
    "cursor.execute(q4).fetchall()"
   ]
  },
  {
   "cell_type": "code",
   "execution_count": 106,
   "metadata": {},
   "outputs": [
    {
     "data": {
      "text/plain": [
       "[(2,),\n",
       " (1,),\n",
       " (1,),\n",
       " (1,),\n",
       " (1,),\n",
       " (1,),\n",
       " (1,),\n",
       " (3,),\n",
       " (2,),\n",
       " (1,),\n",
       " (1,),\n",
       " (1,),\n",
       " (2,),\n",
       " (3,),\n",
       " (2,),\n",
       " (2,),\n",
       " (2,),\n",
       " (1,),\n",
       " (1,),\n",
       " (1,)]"
      ]
     },
     "execution_count": 106,
     "metadata": {},
     "output_type": "execute_result"
    }
   ],
   "source": [
    "#How many Weapons does each character have? (Return first 20 rows)\n",
    "cursor.execute(q5).fetchall()"
   ]
  },
  {
   "cell_type": "code",
   "execution_count": 102,
   "metadata": {},
   "outputs": [
    {
     "data": {
      "text/plain": [
       "2.9735099337748343"
      ]
     },
     "execution_count": 102,
     "metadata": {},
     "output_type": "execute_result"
    }
   ],
   "source": [
    "#On average, how many Items does each Character have?\n",
    "898 / 302"
   ]
  },
  {
   "cell_type": "code",
   "execution_count": 103,
   "metadata": {},
   "outputs": [
    {
     "data": {
      "text/plain": [
       "0.6721854304635762"
      ]
     },
     "execution_count": 103,
     "metadata": {},
     "output_type": "execute_result"
    }
   ],
   "source": [
    "#On average, how many Weapons does each character have?\n",
    "203 / 302"
   ]
  },
  {
   "cell_type": "markdown",
   "metadata": {},
   "source": [
    "# Part 2"
   ]
  },
  {
   "cell_type": "code",
   "execution_count": 155,
   "metadata": {},
   "outputs": [
    {
     "data": {
      "text/plain": [
       "(249, 7)"
      ]
     },
     "execution_count": 155,
     "metadata": {},
     "output_type": "execute_result"
    }
   ],
   "source": [
    "df = pd.read_csv('https://archive.ics.uci.edu/ml/machine-learning-databases/00476/buddymove_holidayiq.csv')\n",
    "df.shape"
   ]
  },
  {
   "cell_type": "code",
   "execution_count": 148,
   "metadata": {
    "scrolled": true
   },
   "outputs": [],
   "source": [
    "df.to_sql('review', conn)"
   ]
  },
  {
   "cell_type": "code",
   "execution_count": 152,
   "metadata": {},
   "outputs": [],
   "source": [
    "q2_1 = 'SELECT COUNT(*) FROM review'\n",
    "q2_2 = 'SELECT COUNT(*) FROM review WHERE Nature >= 100 AND Shopping >= 100'"
   ]
  },
  {
   "cell_type": "code",
   "execution_count": 153,
   "metadata": {},
   "outputs": [
    {
     "data": {
      "text/plain": [
       "[(249,)]"
      ]
     },
     "execution_count": 153,
     "metadata": {},
     "output_type": "execute_result"
    }
   ],
   "source": [
    "#How many rows are there?\n",
    "cursor.execute(q2_1).fetchall()"
   ]
  },
  {
   "cell_type": "code",
   "execution_count": 154,
   "metadata": {},
   "outputs": [
    {
     "data": {
      "text/plain": [
       "[(78,)]"
      ]
     },
     "execution_count": 154,
     "metadata": {},
     "output_type": "execute_result"
    }
   ],
   "source": [
    "#How many users who reviewed at least 100 `Nature` in the category\n",
    "#also reviewed at least 100 in the `Shopping` category?\n",
    "cursor.execute(q2_2).fetchall()"
   ]
  }
 ],
 "metadata": {
  "kernelspec": {
   "display_name": "Python 3",
   "language": "python",
   "name": "python3"
  },
  "language_info": {
   "codemirror_mode": {
    "name": "ipython",
    "version": 3
   },
   "file_extension": ".py",
   "mimetype": "text/x-python",
   "name": "python",
   "nbconvert_exporter": "python",
   "pygments_lexer": "ipython3",
   "version": "3.7.3"
  }
 },
 "nbformat": 4,
 "nbformat_minor": 2
}
